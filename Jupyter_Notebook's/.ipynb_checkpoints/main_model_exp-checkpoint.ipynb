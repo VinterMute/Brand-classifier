{
 "cells": [
  {
   "cell_type": "code",
   "execution_count": 1,
   "metadata": {},
   "outputs": [],
   "source": [
    "import tensorflow as tf\n",
    "import keras\n",
    "from keras import layers\n",
    "from keras import models\n",
    "import os\n",
    "from keras.preprocessing import image\n",
    "from keras.layers import Activation,BatchNormalization\n",
    "from tensorflow.keras import optimizers\n",
    "from keras.preprocessing.image import ImageDataGenerator"
   ]
  },
  {
   "cell_type": "code",
   "execution_count": 3,
   "metadata": {},
   "outputs": [],
   "source": [
    "#Custom layer BatchNorm()\n",
    "class BatchNorm(keras.layers.Layer):\n",
    "    def __init__(self,):\n",
    "        super(BatchNorm, self).__init__()     \n",
    "        \n",
    "    def build(self, input_shape):\n",
    "        initializ_one= tf.keras.initializers.Ones()\n",
    "        initializ_zero=tf.keras.initializers.Zeros()\n",
    "        \n",
    "        self.betta = self.add_weight(initializer=initializ_zero,trainable=True,dtype='float32')\n",
    "        self.gamma = self.add_weight(initializer=initializ_one, trainable=True,dtype='float32')\n",
    "        self.running_mean = tf.Variable(initial_value=initializ_zero(shape=input_shape[1:],dtype='float32'),trainable=False)\n",
    "        self.running_var = tf.Variable(initial_value=initializ_zero(shape=input_shape[1:],dtype='float32'),trainable=False)\n",
    "        \n",
    "    def call(self, inputs, eps=1e-5, training=None,momentum = 0.9):\n",
    "        \n",
    "        if training:\n",
    "            sample_mean,sample_var = tf.nn.moments(inputs,axes = 0)\n",
    "            self.running_mean.assign(momentum * self.running_mean + (1 - momentum) * sample_mean)\n",
    "            self.running_var.assign(momentum * self.running_var + (1 - momentum) * sample_var)\n",
    "    \n",
    "            std = tf.sqrt(sample_var + eps)\n",
    "            x_centered = inputs - sample_mean\n",
    "            x_norm = x_centered / std\n",
    "            out = self.gamma * x_norm + self.betta\n",
    "            \n",
    "        elif not training:\n",
    "            x_norm = (inputs - self.running_mean) / tf.sqrt(self.running_var + eps)\n",
    "            out = self.gamma * x_norm + self.betta\n",
    "        else:\n",
    "            raise ValueError('Invalid forward batchnorm mode')\n",
    "            \n",
    "        \n",
    "        return out"
   ]
  },
  {
   "cell_type": "code",
   "execution_count": 4,
   "metadata": {},
   "outputs": [],
   "source": [
    "height_img = 150\n",
    "width_img = 150"
   ]
  },
  {
   "cell_type": "code",
   "execution_count": 3,
   "metadata": {},
   "outputs": [],
   "source": [
    "# #Модель хоть как-то обучаеться \n",
    "# model = models.Sequential()\n",
    "# model.add(layers.Conv2D(32, (3, 3), activation='relu',\n",
    "#  input_shape=(150, 150, 1)))\n",
    "# model.add(layers.MaxPooling2D((2, 2)))\n",
    "# model.add(layers.Conv2D(64, (3, 3), activation='relu'))\n",
    "# model.add(layers.MaxPooling2D((2, 2)))\n",
    "# model.add(layers.Conv2D(64, (3, 3), activation='relu'))\n",
    "# model.add(layers.Flatten())\n",
    "# model.add(layers.Dense(64, activation='relu'))\n",
    "# model.add(layers.Dense(10, activation='softmax'))"
   ]
  },
  {
   "cell_type": "code",
   "execution_count": 3,
   "metadata": {},
   "outputs": [],
   "source": [
    "# # Модель из статьи  https://arxiv.org/pdf/1701.02620.pdf\n",
    "# model = models.Sequential()\n",
    "# model.add(layers.Conv2D(32, (5, 5), input_shape=(height_img, width_img, 3),padding = \"same\"))\n",
    "# model.add(layers.MaxPooling2D((2, 2)))\n",
    "# model.add(Activation('relu'))\n",
    "# model.add(layers.Conv2D(32, (5, 5)))\n",
    "# model.add(Activation('relu'))\n",
    "# model.add(layers.AveragePooling2D((2, 2)))\n",
    "# model.add(layers.Conv2D(64, (5, 5)))\n",
    "# model.add(Activation('relu'))\n",
    "# model.add(layers.AveragePooling2D((2, 2)))\n",
    "# model.add(layers.Flatten())\n",
    "# model.add(layers.Dense(64))\n",
    "# model.add(layers.Dense(10, activation='softmax'))"
   ]
  },
  {
   "cell_type": "code",
   "execution_count": 5,
   "metadata": {},
   "outputs": [],
   "source": [
    "# Модель из статьи  https://arxiv.org/pdf/1701.02620.pdf  c нормализация батчей \n",
    "#BatchNorm() - кастомная нормализация \\ BatchNormalization() - библиотечная нормализация\n",
    "model = models.Sequential()\n",
    "model.add(layers.Conv2D(32, (5, 5), input_shape=(height_img, width_img, 3)))\n",
    "# model.add(BatchNorm())\n",
    "# model.add(BatchNormalization())\n",
    "model.add(layers.MaxPooling2D((2, 2)))\n",
    "model.add(Activation('relu'))\n",
    "model.add(layers.Conv2D(32, (5, 5)))\n",
    "model.add(Activation('relu'))\n",
    "# model.add(BatchNorm())\n",
    "# model.add(BatchNormalization())\n",
    "model.add(layers.AveragePooling2D((2, 2)))\n",
    "model.add(layers.Conv2D(64, (5, 5)))\n",
    "model.add(Activation('relu'))\n",
    "model.add(BatchNorm())\n",
    "# model.add(BatchNormalization())\n",
    "model.add(layers.AveragePooling2D((2, 2)))\n",
    "model.add(layers.Flatten())\n",
    "# model.add(layers.Dropout(0.2))\n",
    "model.add(layers.Dense(64))\n",
    "model.add(layers.Dense(10, activation='softmax'))"
   ]
  },
  {
   "cell_type": "code",
   "execution_count": 6,
   "metadata": {},
   "outputs": [
    {
     "name": "stdout",
     "output_type": "stream",
     "text": [
      "Model: \"sequential\"\n",
      "_________________________________________________________________\n",
      "Layer (type)                 Output Shape              Param #   \n",
      "=================================================================\n",
      "conv2d (Conv2D)              (None, 146, 146, 32)      2432      \n",
      "_________________________________________________________________\n",
      "max_pooling2d (MaxPooling2D) (None, 73, 73, 32)        0         \n",
      "_________________________________________________________________\n",
      "activation (Activation)      (None, 73, 73, 32)        0         \n",
      "_________________________________________________________________\n",
      "conv2d_1 (Conv2D)            (None, 69, 69, 32)        25632     \n",
      "_________________________________________________________________\n",
      "activation_1 (Activation)    (None, 69, 69, 32)        0         \n",
      "_________________________________________________________________\n",
      "average_pooling2d (AveragePo (None, 34, 34, 32)        0         \n",
      "_________________________________________________________________\n",
      "conv2d_2 (Conv2D)            (None, 30, 30, 64)        51264     \n",
      "_________________________________________________________________\n",
      "activation_2 (Activation)    (None, 30, 30, 64)        0         \n",
      "_________________________________________________________________\n",
      "batch_norm (BatchNorm)       (None, 30, 30, 64)        115202    \n",
      "_________________________________________________________________\n",
      "average_pooling2d_1 (Average (None, 15, 15, 64)        0         \n",
      "_________________________________________________________________\n",
      "flatten (Flatten)            (None, 14400)             0         \n",
      "_________________________________________________________________\n",
      "dense (Dense)                (None, 64)                921664    \n",
      "_________________________________________________________________\n",
      "dense_1 (Dense)              (None, 10)                650       \n",
      "=================================================================\n",
      "Total params: 1,116,844\n",
      "Trainable params: 1,001,644\n",
      "Non-trainable params: 115,200\n",
      "_________________________________________________________________\n"
     ]
    }
   ],
   "source": [
    "model.summary()\n"
   ]
  },
  {
   "cell_type": "code",
   "execution_count": 7,
   "metadata": {},
   "outputs": [],
   "source": [
    "# Испольщуеться 2 символа \\\\ из за экарирование первого в питоне на winidws\n",
    "# Здесь необходимо указать путь до датасета \n",
    "root = r'C:\\\\Users\\\\vinte\\\\Desktop\\\\MAIN\\\\Work_bench\\\\Тестовое VicueSoft\\\\downloads3\\\\'\n",
    "train_dir = os.path.join(root,\"train\\\\\")\n",
    "test_dir = os.path.join(root,\"test\\\\\")\n",
    "pool_companies= \"Nike Coca-cola Adidas Apple Google Intel McDonalds Pepsi RedBull Yahoo\".split()"
   ]
  },
  {
   "cell_type": "code",
   "execution_count": 8,
   "metadata": {
    "scrolled": true
   },
   "outputs": [],
   "source": [
    "model.compile(loss = \"categorical_crossentropy\",optimizer=optimizers.RMSprop(),metrics = [\"acc\"])"
   ]
  },
  {
   "cell_type": "code",
   "execution_count": 9,
   "metadata": {},
   "outputs": [],
   "source": [
    "# Используем аугментацию данных для борьбы с переобучением на малых данных, не отражаем изображение \n",
    "train_datagen = ImageDataGenerator(rescale=1./255,rotation_range= 40, width_shift_range = 0.2,height_shift_range=0.2,\n",
    "shear_range=0.2, zoom_range=0.2)\n",
    "test_datagen = ImageDataGenerator(rescale=1./255)"
   ]
  },
  {
   "cell_type": "code",
   "execution_count": 10,
   "metadata": {},
   "outputs": [
    {
     "name": "stdout",
     "output_type": "stream",
     "text": [
      "Found 1265 images belonging to 10 classes.\n",
      "Found 229 images belonging to 10 classes.\n"
     ]
    }
   ],
   "source": [
    "train_generator = train_datagen.flow_from_directory(train_dir, color_mode='rgb', target_size=(height_img, width_img),batch_size=20,class_mode ='categorical')\n",
    "validation_generator = test_datagen.flow_from_directory(test_dir,color_mode='rgb',  target_size=(height_img, width_img),batch_size=20,class_mode ='categorical')"
   ]
  },
  {
   "cell_type": "code",
   "execution_count": 11,
   "metadata": {},
   "outputs": [
    {
     "name": "stdout",
     "output_type": "stream",
     "text": [
      "data batch shape: (20, 150, 150, 3)\n",
      "labels batch shape: (20, 10)\n"
     ]
    }
   ],
   "source": [
    "for data_batch, labels_batch in train_generator:\n",
    "    print(\"data batch shape:\",data_batch.shape)\n",
    "    print(\"labels batch shape:\", labels_batch.shape)\n",
    "    break"
   ]
  },
  {
   "cell_type": "code",
   "execution_count": 12,
   "metadata": {
    "scrolled": true
   },
   "outputs": [
    {
     "name": "stderr",
     "output_type": "stream",
     "text": [
      "H:\\Anaconda3\\envs\\VicueSoft_gpu\\lib\\site-packages\\keras\\engine\\training.py:1972: UserWarning: `Model.fit_generator` is deprecated and will be removed in a future version. Please use `Model.fit`, which supports generators.\n",
      "  warnings.warn('`Model.fit_generator` is deprecated and '\n"
     ]
    },
    {
     "name": "stdout",
     "output_type": "stream",
     "text": [
      "Epoch 1/100\n",
      "60/60 [==============================] - 35s 446ms/step - loss: 9.2534 - acc: 0.1392 - val_loss: 13.6870 - val_acc: 0.1850\n",
      "Epoch 2/100\n",
      "60/60 [==============================] - 25s 407ms/step - loss: 2.6819 - acc: 0.1705 - val_loss: 2.3463 - val_acc: 0.1750\n",
      "Epoch 3/100\n",
      "60/60 [==============================] - 24s 406ms/step - loss: 2.2866 - acc: 0.2203 - val_loss: 2.6494 - val_acc: 0.1750\n",
      "Epoch 4/100\n",
      "60/60 [==============================] - 25s 423ms/step - loss: 2.1895 - acc: 0.2430 - val_loss: 2.3509 - val_acc: 0.1900\n",
      "Epoch 5/100\n",
      "60/60 [==============================] - 23s 391ms/step - loss: 2.2222 - acc: 0.1840 - val_loss: 2.5640 - val_acc: 0.1400\n",
      "Epoch 6/100\n",
      "60/60 [==============================] - 24s 403ms/step - loss: 2.2700 - acc: 0.1949 - val_loss: 2.1631 - val_acc: 0.2000\n",
      "Epoch 7/100\n",
      "60/60 [==============================] - 25s 408ms/step - loss: 2.0508 - acc: 0.3089 - val_loss: 2.7630 - val_acc: 0.1400\n",
      "Epoch 8/100\n",
      "60/60 [==============================] - 25s 409ms/step - loss: 1.9715 - acc: 0.3435 - val_loss: 2.0655 - val_acc: 0.3600\n",
      "Epoch 9/100\n",
      "60/60 [==============================] - 25s 402ms/step - loss: 1.8757 - acc: 0.3536 - val_loss: 1.8742 - val_acc: 0.4100\n",
      "Epoch 10/100\n",
      "60/60 [==============================] - 25s 417ms/step - loss: 1.7917 - acc: 0.4025 - val_loss: 2.1193 - val_acc: 0.4250\n",
      "Epoch 11/100\n",
      "60/60 [==============================] - 25s 427ms/step - loss: 1.7931 - acc: 0.3975 - val_loss: 2.0626 - val_acc: 0.4600\n",
      "Epoch 12/100\n",
      "60/60 [==============================] - 25s 415ms/step - loss: 1.6892 - acc: 0.4342 - val_loss: 2.0426 - val_acc: 0.4550\n",
      "Epoch 13/100\n",
      "60/60 [==============================] - 24s 406ms/step - loss: 1.6341 - acc: 0.4405 - val_loss: 1.7244 - val_acc: 0.4950\n",
      "Epoch 14/100\n",
      "60/60 [==============================] - 24s 405ms/step - loss: 1.6337 - acc: 0.4709 - val_loss: 1.9004 - val_acc: 0.4050\n",
      "Epoch 15/100\n",
      "60/60 [==============================] - 25s 414ms/step - loss: 1.6625 - acc: 0.4565 - val_loss: 2.0503 - val_acc: 0.4100\n",
      "Epoch 16/100\n",
      "60/60 [==============================] - 25s 409ms/step - loss: 1.6227 - acc: 0.4549 - val_loss: 1.6614 - val_acc: 0.5150\n",
      "Epoch 17/100\n",
      "60/60 [==============================] - 25s 419ms/step - loss: 1.5954 - acc: 0.4557 - val_loss: 1.5563 - val_acc: 0.5650\n",
      "Epoch 18/100\n",
      "60/60 [==============================] - 25s 413ms/step - loss: 1.5559 - acc: 0.5038 - val_loss: 2.1718 - val_acc: 0.4550\n",
      "Epoch 19/100\n",
      "60/60 [==============================] - 25s 411ms/step - loss: 1.5266 - acc: 0.4886 - val_loss: 1.7588 - val_acc: 0.5350\n",
      "Epoch 20/100\n",
      "60/60 [==============================] - 25s 417ms/step - loss: 1.5080 - acc: 0.4776 - val_loss: 2.2688 - val_acc: 0.4650\n",
      "Epoch 21/100\n",
      "60/60 [==============================] - 25s 411ms/step - loss: 1.4679 - acc: 0.5198 - val_loss: 1.7239 - val_acc: 0.4950\n",
      "Epoch 22/100\n",
      "60/60 [==============================] - 24s 398ms/step - loss: 1.5091 - acc: 0.4987 - val_loss: 11.0959 - val_acc: 0.2700\n",
      "Epoch 23/100\n",
      "60/60 [==============================] - 25s 422ms/step - loss: 1.5109 - acc: 0.4793 - val_loss: 1.9474 - val_acc: 0.4500\n",
      "Epoch 24/100\n",
      "60/60 [==============================] - 25s 414ms/step - loss: 1.4553 - acc: 0.5224 - val_loss: 1.6312 - val_acc: 0.5900\n",
      "Epoch 25/100\n",
      "60/60 [==============================] - 24s 406ms/step - loss: 1.4354 - acc: 0.5139 - val_loss: 1.6082 - val_acc: 0.5200\n",
      "Epoch 26/100\n",
      "60/60 [==============================] - 25s 409ms/step - loss: 1.4224 - acc: 0.5283 - val_loss: 2.5203 - val_acc: 0.4800\n",
      "Epoch 27/100\n",
      "60/60 [==============================] - 25s 419ms/step - loss: 1.4343 - acc: 0.5190 - val_loss: 1.7143 - val_acc: 0.5600\n",
      "Epoch 28/100\n",
      "60/60 [==============================] - 25s 419ms/step - loss: 1.3655 - acc: 0.5553 - val_loss: 1.6140 - val_acc: 0.5650\n",
      "Epoch 29/100\n",
      "60/60 [==============================] - 25s 410ms/step - loss: 1.3618 - acc: 0.5300 - val_loss: 1.5807 - val_acc: 0.5550\n",
      "Epoch 30/100\n",
      "60/60 [==============================] - 24s 401ms/step - loss: 1.3204 - acc: 0.5755 - val_loss: 1.6872 - val_acc: 0.5650\n",
      "Epoch 31/100\n",
      "60/60 [==============================] - 25s 419ms/step - loss: 1.2970 - acc: 0.5679 - val_loss: 1.7266 - val_acc: 0.4850\n",
      "Epoch 32/100\n",
      "60/60 [==============================] - 24s 407ms/step - loss: 1.3389 - acc: 0.5603 - val_loss: 1.5570 - val_acc: 0.5700\n",
      "Epoch 33/100\n",
      "60/60 [==============================] - 25s 420ms/step - loss: 1.3040 - acc: 0.5654 - val_loss: 1.6799 - val_acc: 0.5400\n",
      "Epoch 34/100\n",
      "60/60 [==============================] - 24s 399ms/step - loss: 1.2936 - acc: 0.5730 - val_loss: 1.5631 - val_acc: 0.5300\n",
      "Epoch 35/100\n",
      "60/60 [==============================] - 25s 416ms/step - loss: 1.2757 - acc: 0.5848 - val_loss: 1.5277 - val_acc: 0.5650\n",
      "Epoch 36/100\n",
      "60/60 [==============================] - 25s 414ms/step - loss: 1.3188 - acc: 0.5738 - val_loss: 1.3954 - val_acc: 0.5850\n",
      "Epoch 37/100\n",
      "60/60 [==============================] - 25s 414ms/step - loss: 1.2233 - acc: 0.6000 - val_loss: 1.4401 - val_acc: 0.5900\n",
      "Epoch 38/100\n",
      "60/60 [==============================] - 24s 405ms/step - loss: 1.2900 - acc: 0.5603 - val_loss: 2.9115 - val_acc: 0.5500\n",
      "Epoch 39/100\n",
      "60/60 [==============================] - 25s 406ms/step - loss: 1.2351 - acc: 0.5932 - val_loss: 2.1526 - val_acc: 0.4350\n",
      "Epoch 40/100\n",
      "60/60 [==============================] - 25s 413ms/step - loss: 1.2027 - acc: 0.6017 - val_loss: 1.3431 - val_acc: 0.6300\n",
      "Epoch 41/100\n",
      "60/60 [==============================] - 25s 422ms/step - loss: 1.2170 - acc: 0.6110 - val_loss: 1.5128 - val_acc: 0.6250\n",
      "Epoch 42/100\n",
      "60/60 [==============================] - 24s 403ms/step - loss: 1.1554 - acc: 0.6236 - val_loss: 1.7752 - val_acc: 0.5850\n",
      "Epoch 43/100\n",
      "60/60 [==============================] - 25s 410ms/step - loss: 1.2364 - acc: 0.6076 - val_loss: 1.3451 - val_acc: 0.6700\n",
      "Epoch 44/100\n",
      "60/60 [==============================] - 24s 408ms/step - loss: 1.1906 - acc: 0.5958 - val_loss: 1.7689 - val_acc: 0.5600\n",
      "Epoch 45/100\n",
      "60/60 [==============================] - 25s 412ms/step - loss: 1.1605 - acc: 0.6262 - val_loss: 1.4971 - val_acc: 0.6350\n",
      "Epoch 46/100\n",
      "60/60 [==============================] - 25s 411ms/step - loss: 1.1771 - acc: 0.6270 - val_loss: 1.4402 - val_acc: 0.6150\n",
      "Epoch 47/100\n",
      "60/60 [==============================] - 26s 428ms/step - loss: 1.1382 - acc: 0.6186 - val_loss: 1.5711 - val_acc: 0.5750\n",
      "Epoch 48/100\n",
      "60/60 [==============================] - 25s 413ms/step - loss: 1.1343 - acc: 0.6262 - val_loss: 1.4796 - val_acc: 0.6800\n",
      "Epoch 49/100\n",
      "60/60 [==============================] - 25s 415ms/step - loss: 1.1163 - acc: 0.6160 - val_loss: 1.6705 - val_acc: 0.5600\n",
      "Epoch 50/100\n",
      "60/60 [==============================] - 25s 410ms/step - loss: 1.1657 - acc: 0.6093 - val_loss: 1.3000 - val_acc: 0.6500\n",
      "Epoch 51/100\n",
      "60/60 [==============================] - 24s 407ms/step - loss: 1.0851 - acc: 0.6433 - val_loss: 1.4271 - val_acc: 0.6400\n",
      "Epoch 52/100\n",
      "60/60 [==============================] - 25s 419ms/step - loss: 1.1310 - acc: 0.6278 - val_loss: 1.2232 - val_acc: 0.6700\n",
      "Epoch 53/100\n",
      "60/60 [==============================] - 26s 424ms/step - loss: 1.1035 - acc: 0.6430 - val_loss: 1.9406 - val_acc: 0.6250\n",
      "Epoch 54/100\n",
      "60/60 [==============================] - 25s 412ms/step - loss: 1.1053 - acc: 0.6392 - val_loss: 1.5306 - val_acc: 0.6450\n",
      "Epoch 55/100\n",
      "60/60 [==============================] - 25s 410ms/step - loss: 1.1009 - acc: 0.6354 - val_loss: 1.3248 - val_acc: 0.6450\n",
      "Epoch 56/100\n",
      "60/60 [==============================] - 23s 389ms/step - loss: 1.0998 - acc: 0.6270 - val_loss: 1.2557 - val_acc: 0.6450\n",
      "Epoch 57/100\n",
      "60/60 [==============================] - 25s 410ms/step - loss: 1.0091 - acc: 0.6633 - val_loss: 1.2431 - val_acc: 0.6500\n",
      "Epoch 58/100\n",
      "60/60 [==============================] - 25s 411ms/step - loss: 1.0972 - acc: 0.6608 - val_loss: 1.5970 - val_acc: 0.6400\n",
      "Epoch 59/100\n",
      "60/60 [==============================] - 25s 422ms/step - loss: 1.0425 - acc: 0.6565 - val_loss: 1.6251 - val_acc: 0.6200\n",
      "Epoch 60/100\n",
      "60/60 [==============================] - 25s 410ms/step - loss: 1.0568 - acc: 0.6405 - val_loss: 1.3223 - val_acc: 0.6400\n",
      "Epoch 61/100\n",
      "60/60 [==============================] - 24s 409ms/step - loss: 1.0285 - acc: 0.6793 - val_loss: 1.2895 - val_acc: 0.6850\n"
     ]
    },
    {
     "name": "stdout",
     "output_type": "stream",
     "text": [
      "Epoch 62/100\n",
      "60/60 [==============================] - 24s 398ms/step - loss: 1.0199 - acc: 0.6911 - val_loss: 1.2656 - val_acc: 0.6650\n",
      "Epoch 63/100\n",
      "60/60 [==============================] - 25s 409ms/step - loss: 1.0225 - acc: 0.6734 - val_loss: 1.3751 - val_acc: 0.6300\n",
      "Epoch 64/100\n",
      "60/60 [==============================] - 24s 401ms/step - loss: 1.0347 - acc: 0.6515 - val_loss: 1.4060 - val_acc: 0.5950\n",
      "Epoch 65/100\n",
      "60/60 [==============================] - 25s 418ms/step - loss: 1.0408 - acc: 0.6650 - val_loss: 1.8933 - val_acc: 0.5950\n",
      "Epoch 66/100\n",
      "60/60 [==============================] - 25s 406ms/step - loss: 1.0239 - acc: 0.6633 - val_loss: 1.4318 - val_acc: 0.6300\n",
      "Epoch 67/100\n",
      "60/60 [==============================] - 24s 404ms/step - loss: 1.0909 - acc: 0.6338 - val_loss: 1.2090 - val_acc: 0.6850\n",
      "Epoch 68/100\n",
      "60/60 [==============================] - 25s 415ms/step - loss: 1.0090 - acc: 0.6734 - val_loss: 1.3229 - val_acc: 0.6500\n",
      "Epoch 69/100\n",
      "60/60 [==============================] - 24s 411ms/step - loss: 1.0146 - acc: 0.6624 - val_loss: 1.4377 - val_acc: 0.5950\n",
      "Epoch 70/100\n",
      "60/60 [==============================] - 24s 404ms/step - loss: 1.0144 - acc: 0.6574 - val_loss: 1.2976 - val_acc: 0.5800\n",
      "Epoch 71/100\n",
      "60/60 [==============================] - 25s 414ms/step - loss: 0.9898 - acc: 0.6641 - val_loss: 1.5354 - val_acc: 0.6450\n",
      "Epoch 72/100\n",
      "60/60 [==============================] - 25s 406ms/step - loss: 0.9801 - acc: 0.6835 - val_loss: 1.4845 - val_acc: 0.6100\n",
      "Epoch 73/100\n",
      "60/60 [==============================] - 25s 410ms/step - loss: 1.0023 - acc: 0.6793 - val_loss: 1.4949 - val_acc: 0.6600\n",
      "Epoch 74/100\n",
      "60/60 [==============================] - 24s 403ms/step - loss: 1.0085 - acc: 0.6667 - val_loss: 1.8316 - val_acc: 0.6400\n",
      "Epoch 75/100\n",
      "60/60 [==============================] - 25s 417ms/step - loss: 1.0028 - acc: 0.6709 - val_loss: 1.2048 - val_acc: 0.6850\n",
      "Epoch 76/100\n",
      "60/60 [==============================] - 25s 418ms/step - loss: 0.9692 - acc: 0.6886 - val_loss: 1.9966 - val_acc: 0.4750\n",
      "Epoch 77/100\n",
      "60/60 [==============================] - 24s 408ms/step - loss: 0.9708 - acc: 0.6852 - val_loss: 2.0342 - val_acc: 0.6850\n",
      "Epoch 78/100\n",
      "60/60 [==============================] - 24s 404ms/step - loss: 0.9499 - acc: 0.6954 - val_loss: 1.2083 - val_acc: 0.7100\n",
      "Epoch 79/100\n",
      "60/60 [==============================] - 24s 409ms/step - loss: 0.9412 - acc: 0.6833 - val_loss: 1.1476 - val_acc: 0.6900\n",
      "Epoch 80/100\n",
      "60/60 [==============================] - 24s 404ms/step - loss: 0.9828 - acc: 0.6768 - val_loss: 1.2381 - val_acc: 0.7050\n",
      "Epoch 81/100\n",
      "60/60 [==============================] - 25s 411ms/step - loss: 0.9297 - acc: 0.6875 - val_loss: 1.2291 - val_acc: 0.6700\n",
      "Epoch 82/100\n",
      "60/60 [==============================] - 24s 402ms/step - loss: 0.9396 - acc: 0.6979 - val_loss: 3.4946 - val_acc: 0.4500\n",
      "Epoch 83/100\n",
      "60/60 [==============================] - 24s 402ms/step - loss: 0.9656 - acc: 0.6692 - val_loss: 1.4853 - val_acc: 0.6950\n",
      "Epoch 84/100\n",
      "60/60 [==============================] - 26s 426ms/step - loss: 0.9262 - acc: 0.6776 - val_loss: 1.4606 - val_acc: 0.6650\n",
      "Epoch 85/100\n",
      "60/60 [==============================] - 26s 433ms/step - loss: 0.9343 - acc: 0.6911 - val_loss: 1.6879 - val_acc: 0.6900\n",
      "Epoch 86/100\n",
      "60/60 [==============================] - 25s 405ms/step - loss: 0.9798 - acc: 0.6844 - val_loss: 1.3993 - val_acc: 0.6050\n",
      "Epoch 87/100\n",
      "60/60 [==============================] - 25s 403ms/step - loss: 0.9101 - acc: 0.7030 - val_loss: 1.3260 - val_acc: 0.6600\n",
      "Epoch 88/100\n",
      "60/60 [==============================] - 24s 408ms/step - loss: 0.8972 - acc: 0.7156 - val_loss: 1.4070 - val_acc: 0.6950\n",
      "Epoch 89/100\n",
      "60/60 [==============================] - 25s 411ms/step - loss: 0.8791 - acc: 0.7072 - val_loss: 1.1102 - val_acc: 0.7450\n",
      "Epoch 90/100\n",
      "60/60 [==============================] - 25s 407ms/step - loss: 0.9272 - acc: 0.7013 - val_loss: 1.0479 - val_acc: 0.7100\n",
      "Epoch 91/100\n",
      "60/60 [==============================] - 26s 428ms/step - loss: 0.9125 - acc: 0.7042 - val_loss: 1.2002 - val_acc: 0.6800\n",
      "Epoch 92/100\n",
      "60/60 [==============================] - 26s 436ms/step - loss: 0.8987 - acc: 0.7013 - val_loss: 1.1723 - val_acc: 0.7050\n",
      "Epoch 93/100\n",
      "60/60 [==============================] - 25s 413ms/step - loss: 0.9057 - acc: 0.7173 - val_loss: 1.1599 - val_acc: 0.7050\n",
      "Epoch 94/100\n",
      "60/60 [==============================] - 30s 495ms/step - loss: 0.8645 - acc: 0.7224 - val_loss: 2.1681 - val_acc: 0.5700\n",
      "Epoch 95/100\n",
      "60/60 [==============================] - 25s 422ms/step - loss: 0.9119 - acc: 0.7063 - val_loss: 1.2149 - val_acc: 0.7000\n",
      "Epoch 96/100\n",
      "60/60 [==============================] - 25s 412ms/step - loss: 0.8959 - acc: 0.7190 - val_loss: 1.1297 - val_acc: 0.7000\n",
      "Epoch 97/100\n",
      "60/60 [==============================] - 27s 445ms/step - loss: 0.8678 - acc: 0.7030 - val_loss: 1.0581 - val_acc: 0.7400\n",
      "Epoch 98/100\n",
      "60/60 [==============================] - 24s 396ms/step - loss: 0.8346 - acc: 0.7308 - val_loss: 1.4428 - val_acc: 0.6700\n",
      "Epoch 99/100\n",
      "60/60 [==============================] - 25s 407ms/step - loss: 0.8538 - acc: 0.7283 - val_loss: 1.1394 - val_acc: 0.6400\n",
      "Epoch 100/100\n",
      "60/60 [==============================] - 25s 425ms/step - loss: 0.8743 - acc: 0.7038 - val_loss: 1.7279 - val_acc: 0.5500\n"
     ]
    }
   ],
   "source": [
    "history = model.fit_generator(train_generator,steps_per_epoch=60,epochs=100,validation_data=validation_generator,validation_steps = 10)"
   ]
  },
  {
   "cell_type": "code",
   "execution_count": null,
   "metadata": {},
   "outputs": [],
   "source": [
    "model.save(\"model.h5\")"
   ]
  },
  {
   "cell_type": "code",
   "execution_count": 7,
   "metadata": {},
   "outputs": [],
   "source": [
    "model = models.load_model('model.h5')"
   ]
  },
  {
   "cell_type": "code",
   "execution_count": 13,
   "metadata": {
    "scrolled": false
   },
   "outputs": [
    {
     "name": "stderr",
     "output_type": "stream",
     "text": [
      "No handles with labels found to put in legend.\n"
     ]
    },
    {
     "data": {
      "image/png": "[encoded data removed]",
      "text/plain": [
       "<Figure size 432x288 with 1 Axes>"
      ]
     },
     "metadata": {
      "needs_background": "light"
     },
     "output_type": "display_data"
    },
    {
     "data": {
      "text/plain": [
       "<Figure size 432x288 with 0 Axes>"
      ]
     },
     "metadata": {},
     "output_type": "display_data"
    },
    {
     "data": {
      "image/png": "[encoded data removed]",
      "text/plain": [
       "<Figure size 432x288 with 1 Axes>"
      ]
     },
     "metadata": {
      "needs_background": "light"
     },
     "output_type": "display_data"
    }
   ],
   "source": [
    "import matplotlib.pyplot as plt\n",
    "acc = history.history['acc']\n",
    "val_acc = history.history['val_acc']\n",
    "loss = history.history['loss']\n",
    "val_loss=history.history['val_loss']\n",
    "\n",
    "epochs = range(1,len(acc)+1)\n",
    "plt.plot(epochs,acc,\"bo\")\n",
    "plt.plot(epochs, val_acc,'b')\n",
    "plt.title(\"Training and validation accuracy\")\n",
    "plt.legend()\n",
    "plt.figure()\n",
    "\n",
    "plt.show()\n",
    "plt.plot(epochs, loss,\"bo\")\n",
    "plt.plot(epochs, val_loss, 'b')\n",
    "plt.show()"
   ]
  },
  {
   "cell_type": "code",
   "execution_count": 14,
   "metadata": {},
   "outputs": [
    {
     "name": "stdout",
     "output_type": "stream",
     "text": [
      "Found GPU at: /device:GPU:0\n"
     ]
    }
   ],
   "source": [
    "import tensorflow as tf\n",
    "device_name = tf.test.gpu_device_name()\n",
    "if device_name != '/device:GPU:0':\n",
    "  raise SystemError('GPU device not found')\n",
    "print('Found GPU at: {}'.format(device_name))"
   ]
  },
  {
   "cell_type": "code",
   "execution_count": 13,
   "metadata": {},
   "outputs": [
    {
     "name": "stdout",
     "output_type": "stream",
     "text": [
      "2.6.0\n"
     ]
    }
   ],
   "source": [
    "\n",
    "print(tf.__version__)"
   ]
  },
  {
   "cell_type": "markdown",
   "metadata": {},
   "source": [
    "Время без испольщование gpu 651ms/step "
   ]
  }
 ],
 "metadata": {
  "kernelspec": {
   "display_name": "Python 3",
   "language": "python",
   "name": "python3"
  },
  "language_info": {
   "codemirror_mode": {
    "name": "ipython",
    "version": 3
   },
   "file_extension": ".py",
   "mimetype": "text/x-python",
   "name": "python",
   "nbconvert_exporter": "python",
   "pygments_lexer": "ipython3",
   "version": "3.8.5"
  }
 },
 "nbformat": 4,
 "nbformat_minor": 5
}
